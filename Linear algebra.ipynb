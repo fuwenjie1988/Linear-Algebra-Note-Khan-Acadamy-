{
 "cells": [
  {
   "cell_type": "markdown",
   "metadata": {},
   "source": [
    "**矩阵简介**"
   ]
  },
  {
   "cell_type": "code",
   "execution_count": null,
   "metadata": {},
   "outputs": [],
   "source": [
    "import numpy as np\n",
    "\n",
    "A=np.array([(3,-1),(2,0)])\n",
    "B=np.array([(-7,2),(3,5)])\n",
    "\n",
    "# print(A+B)\n",
    "# print(A-B)"
   ]
  },
  {
   "cell_type": "markdown",
   "metadata": {},
   "source": [
    "**矩阵乘法**"
   ]
  },
  {
   "cell_type": "code",
   "execution_count": null,
   "metadata": {},
   "outputs": [],
   "source": [
    "import numpy as np\n",
    "\n",
    "# 必须要用矩阵，不能用array\n",
    "A=np.matrix([(2,-3),(7,5)])\n",
    "B=np.matrix([(10,-8),(12,-2)])\n",
    "\n",
    "# print(A*B)\n",
    "\n",
    "C=np.matrix([(1,2),(3,4)])\n",
    "D=np.matrix([(5,6),(7,8)])\n",
    "\n",
    "# 交换律不适用于矩阵乘法\n",
    "# print(C*D)\n",
    "# print(D*C)\n",
    "\n",
    "E=np.matrix([(3,1,2),(-2,0,5)])\n",
    "F=np.matrix([(-1,3),(0,5),(2,5)])\n",
    "\n",
    "print(E*F)\n",
    "\n",
    "print(F*E)"
   ]
  },
  {
   "cell_type": "markdown",
   "metadata": {},
   "source": [
    "**矩阵的逆**"
   ]
  },
  {
   "cell_type": "code",
   "execution_count": null,
   "metadata": {},
   "outputs": [],
   "source": [
    "import numpy as np\n",
    "import numpy.matlib as mb\n",
    "\n",
    "# 创建单位矩阵\n",
    "I=mb.eye(2,2)\n",
    "\n",
    "# print(I)\n",
    "\n",
    "# 两种写法完全等价\n",
    "# A=np.matrix([(2,-3),(7,5)])\n",
    "# A=np.matrix('2,-3;7,5')\n",
    "# print(A)\n",
    "\n",
    "B=np.matrix('3,-4;2,-5')\n",
    "\n",
    "B_1=np.linalg.inv(B)\n",
    "print(B_1)\n",
    "\n",
    "print(B_1*B)"
   ]
  },
  {
   "cell_type": "markdown",
   "metadata": {},
   "source": [
    "**矩阵的逆（二）**"
   ]
  },
  {
   "cell_type": "code",
   "execution_count": 4,
   "metadata": {},
   "outputs": [
    {
     "name": "stdout",
     "output_type": "stream",
     "text": [
      "[[1 0 1]\n",
      " [0 2 1]\n",
      " [1 1 1]]\n",
      "[[-1. -1.  2.]\n",
      " [-1.  0.  1.]\n",
      " [ 2.  1. -2.]]\n"
     ]
    }
   ],
   "source": [
    "import numpy as np\n",
    "import numpy.matlib as mb\n",
    "\n",
    "A=np.matrix('1,0,1;0,2,1;1,1,1')\n",
    "\n",
    "print(A)\n",
    "\n",
    "# 矩阵的转置\n",
    "A_1=A.T\n",
    "\n",
    "print(A.I)"
   ]
  }
 ],
 "metadata": {
  "kernelspec": {
   "display_name": "Python 3.7.1 32-bit",
   "language": "python",
   "name": "python3"
  },
  "language_info": {
   "codemirror_mode": {
    "name": "ipython",
    "version": 3
   },
   "file_extension": ".py",
   "mimetype": "text/x-python",
   "name": "python",
   "nbconvert_exporter": "python",
   "pygments_lexer": "ipython3",
   "version": "3.7.1"
  },
  "orig_nbformat": 4,
  "vscode": {
   "interpreter": {
    "hash": "87c8eeea08ab3d29ad729688c7dc8d710eb7504e2022354839d375ec51a3ad09"
   }
  }
 },
 "nbformat": 4,
 "nbformat_minor": 2
}
